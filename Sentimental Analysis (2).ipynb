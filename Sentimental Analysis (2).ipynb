{
 "cells": [
  {
   "cell_type": "code",
   "execution_count": null,
   "metadata": {},
   "outputs": [],
   "source": [
    "import tweepy\n",
    "from textblob import TextBlob\n",
    "import re\n",
    "import pandas as pd\n",
    "import matplotlib.pyplot as plt\n",
    "from wordcloud import WordCloud"
   ]
  },
  {
   "cell_type": "code",
   "execution_count": null,
   "metadata": {},
   "outputs": [],
   "source": [
    "#Twitter API credentials\n",
    "API_key='pNOM15N3ZEoZWLzhAQOBXMhv4'\n",
    "API_secret_key='TdMVftuCIYqlmATE6VxYUslLzyVDZtXENJeTtjQ0WlxOEPKzdF'\n",
    "access_token='1259299136349908994-Ky8rXmsdOGmGStvMWyr3c33dzwqOlY'\n",
    "access_token_secret='vPH5TarikDG1TL6CWOpfnnsiajjWxfUabX8WYIDGJX0Jh'"
   ]
  },
  {
   "cell_type": "code",
   "execution_count": null,
   "metadata": {},
   "outputs": [],
   "source": [
    "#creating authentication object\n",
    "auth=tweepy.OAuthHandler(API_key,API_secret_key)\n",
    "auth.set_access_token(access_token,access_token_secret)\n",
    "#creating API object\n",
    "api=tweepy.API(auth)"
   ]
  },
  {
   "cell_type": "code",
   "execution_count": null,
   "metadata": {},
   "outputs": [],
   "source": [
    "public_tweets=api.search(q='Real Madrid',count=200)"
   ]
  },
  {
   "cell_type": "code",
   "execution_count": null,
   "metadata": {},
   "outputs": [],
   "source": [
    "for tweet in public_tweets:\n",
    "    print(tweet.text+'\\n')"
   ]
  },
  {
   "cell_type": "code",
   "execution_count": null,
   "metadata": {},
   "outputs": [],
   "source": [
    "#creating dataframe for tweets\n",
    "df=pd.DataFrame([tweet.text for tweet in public_tweets],columns=['Tweets'])"
   ]
  },
  {
   "cell_type": "code",
   "execution_count": null,
   "metadata": {},
   "outputs": [],
   "source": [
    "df"
   ]
  },
  {
   "cell_type": "code",
   "execution_count": null,
   "metadata": {},
   "outputs": [],
   "source": [
    "df.describe()"
   ]
  },
  {
   "cell_type": "code",
   "execution_count": null,
   "metadata": {},
   "outputs": [],
   "source": [
    "#function to clean the tweets\n",
    "def func1(tweet):\n",
    "    tweet=re.sub(r'RT',' ',tweet)\n",
    "    tweet=re.sub(r'@[^\\s]+',' ',tweet)\n",
    "    tweet=re.sub(r'#','',tweet)\n",
    "    tweet=re.sub(r'[0-9]',' ',tweet)\n",
    "    tweet=re.sub(r'https?:\\/\\/\\S+','',tweet)\n",
    "    return(tweet)"
   ]
  },
  {
   "cell_type": "code",
   "execution_count": null,
   "metadata": {},
   "outputs": [],
   "source": [
    "df['Tweets']=df['Tweets'].apply(func1)"
   ]
  },
  {
   "cell_type": "code",
   "execution_count": null,
   "metadata": {},
   "outputs": [],
   "source": [
    "df"
   ]
  },
  {
   "cell_type": "code",
   "execution_count": null,
   "metadata": {},
   "outputs": [],
   "source": [
    "#checking  polarity of tweets \n",
    "df['Polarity']=df['Tweets'].apply(lambda tweet:TextBlob(tweet).sentiment.polarity) "
   ]
  },
  {
   "cell_type": "code",
   "execution_count": null,
   "metadata": {},
   "outputs": [],
   "source": [
    "# checking subjectivity of tweets\n",
    "df['Subjectivity']=df['Tweets'].apply(lambda tweet:TextBlob(tweet).sentiment.subjectivity) "
   ]
  },
  {
   "cell_type": "code",
   "execution_count": null,
   "metadata": {},
   "outputs": [],
   "source": [
    "df"
   ]
  },
  {
   "cell_type": "code",
   "execution_count": null,
   "metadata": {},
   "outputs": [],
   "source": [
    "#function to check whether the tweet is positive,negative or neutral with respect to polarity\n",
    "def f(row):\n",
    "    if(row['Polarity']>0):\n",
    "        return'Positive'\n",
    "    elif(row['Polarity']<0):\n",
    "        return'Negative'\n",
    "    else:\n",
    "        return'Neutral'"
   ]
  },
  {
   "cell_type": "code",
   "execution_count": null,
   "metadata": {},
   "outputs": [],
   "source": [
    "df['Analysis']=df.apply(f,axis=1)"
   ]
  },
  {
   "cell_type": "code",
   "execution_count": null,
   "metadata": {},
   "outputs": [],
   "source": [
    "df"
   ]
  },
  {
   "cell_type": "code",
   "execution_count": null,
   "metadata": {},
   "outputs": [],
   "source": [
    "import matplotlib.pyplot as plt\n",
    "from wordcloud import WordCloud"
   ]
  },
  {
   "cell_type": "code",
   "execution_count": null,
   "metadata": {
    "scrolled": true
   },
   "outputs": [],
   "source": [
    "Words=' '.join(twets for twets in df['Tweets'])\n",
    "WordCloud=WordCloud(collocations=False).generate(Words)\n",
    "plt.imshow(WordCloud , interpolation=\"bilinear\")\n",
    "plt.show()\n"
   ]
  },
  {
   "cell_type": "code",
   "execution_count": null,
   "metadata": {},
   "outputs": [],
   "source": [
    "emotion=[]\n",
    "for i in df[\"Analysis\"]:\n",
    "    if(i==\"Negative\"):\n",
    "        emotion.append(0)\n",
    "    elif(i==\"Positive\"):\n",
    "        emotion.append(1)\n",
    "    else:\n",
    "        emotion.append(2)\n",
    "y=[]\n",
    "y.append(emotion.count(0))\n",
    "y.append(emotion.count(1))\n",
    "y.append(emotion.count(2))\n",
    "\n",
    "                    \n",
    "        "
   ]
  },
  {
   "cell_type": "code",
   "execution_count": null,
   "metadata": {},
   "outputs": [],
   "source": [
    "fig=plt.figure()\n",
    "ax=fig.add_axes([0,0,1,1])\n",
    "x=[\"Negative\",\"Positive\",\"Neutral\"]\n",
    "ax.bar(x,y,color='r')\n",
    "plt.show()"
   ]
  },
  {
   "cell_type": "code",
   "execution_count": null,
   "metadata": {},
   "outputs": [],
   "source": [
    "count=0\n",
    "count1=0\n",
    "count2=0\n",
    "for i in df[\"Analysis\"]:\n",
    "    if(i==\"Negative\"):\n",
    "        count=count+1\n",
    "    elif(i==\"Positive\"):\n",
    "        count1=count1+1\n",
    "    else:\n",
    "        count2=count2+1"
   ]
  },
  {
   "cell_type": "code",
   "execution_count": null,
   "metadata": {},
   "outputs": [],
   "source": [
    "labels=['Negative','Positive','Neutral']\n",
    "sizes=[count,count1,count2]\n",
    "colors=['green','yellow','red']\n",
    "plt.pie(sizes,labels=labels,colors=colors,autopct='%1.2f%%',shadow=True,startangle=100)\n",
    "plt.axis('equal')\n",
    "plt.show()"
   ]
  },
  {
   "cell_type": "code",
   "execution_count": null,
   "metadata": {},
   "outputs": [],
   "source": []
  },
  {
   "cell_type": "code",
   "execution_count": null,
   "metadata": {},
   "outputs": [],
   "source": []
  }
 ],
 "metadata": {
  "kernelspec": {
   "display_name": "Python 3",
   "language": "python",
   "name": "python3"
  },
  "language_info": {
   "codemirror_mode": {
    "name": "ipython",
    "version": 3
   },
   "file_extension": ".py",
   "mimetype": "text/x-python",
   "name": "python",
   "nbconvert_exporter": "python",
   "pygments_lexer": "ipython3",
   "version": "3.8.3"
  }
 },
 "nbformat": 4,
 "nbformat_minor": 2
}
